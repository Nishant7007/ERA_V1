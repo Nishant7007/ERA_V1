{
  "nbformat": 4,
  "nbformat_minor": 0,
  "metadata": {
    "colab": {
      "provenance": [],
      "gpuType": "T4"
    },
    "kernelspec": {
      "name": "python3",
      "display_name": "Python 3"
    },
    "language_info": {
      "name": "python"
    },
    "accelerator": "GPU"
  },
  "cells": [
    {
      "cell_type": "markdown",
      "source": [
        "## STEP-2 (Reducing the number of parameters)\n",
        "    Target:\n",
        "\n",
        "        -- Our previous model has 776K parameters. I want to reduce these parameters here. I want to make them < 8K\n",
        "\n",
        "    Results:\n",
        "\n",
        "        -- Parameters: 7,330\n",
        "        -- Best Training Accuracy: 99.48\n",
        "        -- Best Test Accuracy: 99.24\n",
        "\n",
        "    Analysis:\n",
        "\n",
        "        -- The accuracy has dropped from 99.60 to 99.24 after reducing the number of parameters\n",
        "        -- training and test accuracy are increasing with epochs. So we are in the right path. We might improve results by training it for few more epochs. We will keep number of epochs to 15 and increase it if required in future\n"
      ],
      "metadata": {
        "id": "uYXMDEKiFVqq"
      }
    },
    {
      "cell_type": "markdown",
      "metadata": {
        "id": "aO-7t1Y7-hV4"
      },
      "source": [
        "# Import Libraries"
      ]
    },
    {
      "cell_type": "code",
      "source": [
        "from google.colab import drive\n",
        "drive.mount('/content/drive')"
      ],
      "metadata": {
        "colab": {
          "base_uri": "https://localhost:8080/"
        },
        "id": "5VT3JQm-UQ8o",
        "outputId": "efd41fde-97de-4102-b99f-768a595a3cda"
      },
      "execution_count": 1,
      "outputs": [
        {
          "output_type": "stream",
          "name": "stdout",
          "text": [
            "Drive already mounted at /content/drive; to attempt to forcibly remount, call drive.mount(\"/content/drive\", force_remount=True).\n"
          ]
        }
      ]
    },
    {
      "cell_type": "code",
      "source": [
        "%cd 'drive/MyDrive/ERA_V1/Session_7_InDepth_Coding_Practice'"
      ],
      "metadata": {
        "colab": {
          "base_uri": "https://localhost:8080/"
        },
        "id": "a6-ErybvUel8",
        "outputId": "84b4d2c0-ba52-42c1-b230-d8057e0885d8"
      },
      "execution_count": 2,
      "outputs": [
        {
          "output_type": "stream",
          "name": "stdout",
          "text": [
            "/content/drive/MyDrive/ERA_V1/Session_7_InDepth_Coding_Practice\n"
          ]
        }
      ]
    },
    {
      "cell_type": "code",
      "source": [
        "from __future__ import print_function\n",
        "import torch\n",
        "import torch.nn as nn\n",
        "import torch.nn.functional as F\n",
        "import torch.optim as optim\n",
        "from torchvision import datasets, transforms"
      ],
      "metadata": {
        "id": "Kml3qngcMTcB"
      },
      "execution_count": 3,
      "outputs": []
    },
    {
      "cell_type": "markdown",
      "source": [
        "# Data Transformations\n",
        "\n"
      ],
      "metadata": {
        "id": "j8W2XOyhxSrx"
      }
    },
    {
      "cell_type": "code",
      "source": [
        "from data_transformers import Transforms\n",
        "transforms_obj = Transforms()\n",
        "train = transforms_obj.download_train_data()\n",
        "test = transforms_obj.download_test_data()"
      ],
      "metadata": {
        "id": "rlQ2oDocvsvS"
      },
      "execution_count": 4,
      "outputs": []
    },
    {
      "cell_type": "markdown",
      "source": [
        "# Train Test Dataloaders\n",
        "\n",
        "\n"
      ],
      "metadata": {
        "id": "JjOhQKUpMo1i"
      }
    },
    {
      "cell_type": "code",
      "source": [
        "from train_test_loaders import Train_Test_Dataloaders\n",
        "train_test_dataloaders_obj = Train_Test_Dataloaders()\n",
        "\n",
        "train_loader = train_test_dataloaders_obj.get_train_dataloader(train)\n",
        "test_loader = train_test_dataloaders_obj.get_test_dataloader(test)"
      ],
      "metadata": {
        "id": "xw5WxhLIMpx_",
        "colab": {
          "base_uri": "https://localhost:8080/"
        },
        "outputId": "83b47d26-10d0-4d84-d999-d450f3ddc428"
      },
      "execution_count": 5,
      "outputs": [
        {
          "output_type": "stream",
          "name": "stderr",
          "text": [
            "/usr/local/lib/python3.10/dist-packages/torch/utils/data/dataloader.py:560: UserWarning: This DataLoader will create 4 worker processes in total. Our suggested max number of worker in current system is 2, which is smaller than what this DataLoader is going to create. Please be aware that excessive worker creation might get DataLoader running slow or even freeze, lower the worker number to avoid potential slowness/freeze if necessary.\n",
            "  warnings.warn(_create_warning_msg(\n"
          ]
        }
      ]
    },
    {
      "cell_type": "markdown",
      "source": [
        "# The Model"
      ],
      "metadata": {
        "id": "IWO0-ykFTJwH"
      }
    },
    {
      "cell_type": "markdown",
      "source": [
        "$$n_{out} = \\lfloor \\frac{n_{in} + 2p - k}{s} \\rfloor + 1$$\n",
        "\n",
        "$$j_{out} = j{_in}*s$$\n",
        "\n",
        "$$r_{out} = r_{in} + (k-1)*j_{in}$$\n",
        "\n",
        "\n",
        "**n_in:** number of input features\n",
        "\n",
        "**n_out:** number of output features\n",
        "\n",
        "**k:** kernel_size\n",
        "\n",
        "**s:** stride\n",
        "\n",
        "**p:** padding\n",
        "\n",
        "**j_in:** jump in\n",
        "\n",
        "**j_out:** jump out\n",
        "\n",
        "**r_in:** in receptive field\n",
        "\n",
        "**r_out:** out receptive field"
      ],
      "metadata": {
        "id": "l2y1VwnTkcCC"
      }
    },
    {
      "cell_type": "code",
      "source": [
        "!pip install torchsummary\n",
        "from torchsummary import summary\n",
        "use_cuda = torch.cuda.is_available()\n",
        "device = torch.device(\"cuda\" if use_cuda else \"cpu\")\n",
        "print(device)"
      ],
      "metadata": {
        "id": "Nbxiu66bNb-S",
        "colab": {
          "base_uri": "https://localhost:8080/"
        },
        "outputId": "f58cf35d-c5f2-46f9-d49a-309359ccf5e6"
      },
      "execution_count": 6,
      "outputs": [
        {
          "output_type": "stream",
          "name": "stdout",
          "text": [
            "Looking in indexes: https://pypi.org/simple, https://us-python.pkg.dev/colab-wheels/public/simple/\n",
            "Requirement already satisfied: torchsummary in /usr/local/lib/python3.10/dist-packages (1.5.1)\n",
            "cuda\n"
          ]
        }
      ]
    },
    {
      "cell_type": "code",
      "source": [
        "from models import Model2\n",
        "model = Model2().to(device)\n",
        "summary(model, input_size=(1, 28, 28))"
      ],
      "metadata": {
        "id": "c-vf-AYWNgJT",
        "colab": {
          "base_uri": "https://localhost:8080/"
        },
        "outputId": "b503a6c8-b94b-41b3-f901-3675cd7242c8"
      },
      "execution_count": 7,
      "outputs": [
        {
          "output_type": "stream",
          "name": "stdout",
          "text": [
            "----------------------------------------------------------------\n",
            "        Layer (type)               Output Shape         Param #\n",
            "================================================================\n",
            "            Conv2d-1           [-1, 10, 26, 26]              90\n",
            "              ReLU-2           [-1, 10, 26, 26]               0\n",
            "       BatchNorm2d-3           [-1, 10, 26, 26]              20\n",
            "            Conv2d-4           [-1, 10, 24, 24]             900\n",
            "              ReLU-5           [-1, 10, 24, 24]               0\n",
            "       BatchNorm2d-6           [-1, 10, 24, 24]              20\n",
            "            Conv2d-7           [-1, 12, 22, 22]           1,080\n",
            "              ReLU-8           [-1, 12, 22, 22]               0\n",
            "       BatchNorm2d-9           [-1, 12, 22, 22]              24\n",
            "           Conv2d-10           [-1, 14, 20, 20]           1,512\n",
            "             ReLU-11           [-1, 14, 20, 20]               0\n",
            "      BatchNorm2d-12           [-1, 14, 20, 20]              28\n",
            "        MaxPool2d-13           [-1, 14, 10, 10]               0\n",
            "           Conv2d-14             [-1, 12, 8, 8]           1,512\n",
            "             ReLU-15             [-1, 12, 8, 8]               0\n",
            "      BatchNorm2d-16             [-1, 12, 8, 8]              24\n",
            "           Conv2d-17             [-1, 10, 6, 6]           1,080\n",
            "             ReLU-18             [-1, 10, 6, 6]               0\n",
            "      BatchNorm2d-19             [-1, 10, 6, 6]              20\n",
            "           Conv2d-20             [-1, 10, 4, 4]             900\n",
            "             ReLU-21             [-1, 10, 4, 4]               0\n",
            "      BatchNorm2d-22             [-1, 10, 4, 4]              20\n",
            "        AvgPool2d-23             [-1, 10, 1, 1]               0\n",
            "           Conv2d-24             [-1, 10, 1, 1]             100\n",
            "================================================================\n",
            "Total params: 7,330\n",
            "Trainable params: 7,330\n",
            "Non-trainable params: 0\n",
            "----------------------------------------------------------------\n",
            "Input size (MB): 0.00\n",
            "Forward/backward pass size (MB): 0.59\n",
            "Params size (MB): 0.03\n",
            "Estimated Total Size (MB): 0.62\n",
            "----------------------------------------------------------------\n"
          ]
        }
      ]
    },
    {
      "cell_type": "markdown",
      "source": [
        "# Let's Train and test our model"
      ],
      "metadata": {
        "id": "oUNldaeJS17V"
      }
    },
    {
      "cell_type": "code",
      "source": [
        "from train_test import Train_Test\n",
        "train_test_obj = Train_Test()\n",
        "\n",
        "train_losses, test_losses, train_acc, test_acc = train_test_obj.train_and_test_model(model, device, 15, train_loader, test_loader)"
      ],
      "metadata": {
        "id": "qqL_pf-cSZuC",
        "colab": {
          "base_uri": "https://localhost:8080/"
        },
        "outputId": "054fa782-8b7f-43d0-cf37-76f08dba9598"
      },
      "execution_count": 8,
      "outputs": [
        {
          "output_type": "stream",
          "name": "stdout",
          "text": [
            "EPOCH: 0\n"
          ]
        },
        {
          "output_type": "stream",
          "name": "stderr",
          "text": [
            "loss=0.0717351883649826 Batch_id=468 Accuracy=91.09: 100%|██████████| 469/469 [00:18<00:00, 25.64it/s]\n"
          ]
        },
        {
          "output_type": "stream",
          "name": "stdout",
          "text": [
            "\n",
            " Test set: Average loss: 0.0862, Accuracy: 9781/10000 (97.81%)\n",
            "\n",
            "EPOCH: 1\n"
          ]
        },
        {
          "output_type": "stream",
          "name": "stderr",
          "text": [
            "loss=0.04908783733844757 Batch_id=468 Accuracy=98.19: 100%|██████████| 469/469 [00:20<00:00, 22.61it/s]\n"
          ]
        },
        {
          "output_type": "stream",
          "name": "stdout",
          "text": [
            "\n",
            " Test set: Average loss: 0.0522, Accuracy: 9853/10000 (98.53%)\n",
            "\n",
            "EPOCH: 2\n"
          ]
        },
        {
          "output_type": "stream",
          "name": "stderr",
          "text": [
            "loss=0.07659216225147247 Batch_id=468 Accuracy=98.64: 100%|██████████| 469/469 [00:18<00:00, 25.59it/s]\n"
          ]
        },
        {
          "output_type": "stream",
          "name": "stdout",
          "text": [
            "\n",
            " Test set: Average loss: 0.0359, Accuracy: 9903/10000 (99.03%)\n",
            "\n",
            "EPOCH: 3\n"
          ]
        },
        {
          "output_type": "stream",
          "name": "stderr",
          "text": [
            "loss=0.029049448668956757 Batch_id=468 Accuracy=98.80: 100%|██████████| 469/469 [00:18<00:00, 25.71it/s]\n"
          ]
        },
        {
          "output_type": "stream",
          "name": "stdout",
          "text": [
            "\n",
            " Test set: Average loss: 0.0369, Accuracy: 9893/10000 (98.93%)\n",
            "\n",
            "EPOCH: 4\n"
          ]
        },
        {
          "output_type": "stream",
          "name": "stderr",
          "text": [
            "loss=0.07053966820240021 Batch_id=468 Accuracy=98.99: 100%|██████████| 469/469 [00:18<00:00, 24.92it/s]\n"
          ]
        },
        {
          "output_type": "stream",
          "name": "stdout",
          "text": [
            "\n",
            " Test set: Average loss: 0.0331, Accuracy: 9907/10000 (99.07%)\n",
            "\n",
            "EPOCH: 5\n"
          ]
        },
        {
          "output_type": "stream",
          "name": "stderr",
          "text": [
            "loss=0.06099306419491768 Batch_id=468 Accuracy=99.07: 100%|██████████| 469/469 [00:18<00:00, 25.74it/s]\n"
          ]
        },
        {
          "output_type": "stream",
          "name": "stdout",
          "text": [
            "\n",
            " Test set: Average loss: 0.0353, Accuracy: 9901/10000 (99.01%)\n",
            "\n",
            "EPOCH: 6\n"
          ]
        },
        {
          "output_type": "stream",
          "name": "stderr",
          "text": [
            "loss=0.03423510119318962 Batch_id=468 Accuracy=99.14: 100%|██████████| 469/469 [00:19<00:00, 23.84it/s]\n"
          ]
        },
        {
          "output_type": "stream",
          "name": "stdout",
          "text": [
            "\n",
            " Test set: Average loss: 0.0274, Accuracy: 9921/10000 (99.21%)\n",
            "\n",
            "EPOCH: 7\n"
          ]
        },
        {
          "output_type": "stream",
          "name": "stderr",
          "text": [
            "loss=0.008518942631781101 Batch_id=468 Accuracy=99.24: 100%|██████████| 469/469 [00:18<00:00, 25.92it/s]\n"
          ]
        },
        {
          "output_type": "stream",
          "name": "stdout",
          "text": [
            "\n",
            " Test set: Average loss: 0.0258, Accuracy: 9924/10000 (99.24%)\n",
            "\n",
            "EPOCH: 8\n"
          ]
        },
        {
          "output_type": "stream",
          "name": "stderr",
          "text": [
            "loss=0.013512038625776768 Batch_id=468 Accuracy=99.28: 100%|██████████| 469/469 [00:20<00:00, 23.45it/s]\n"
          ]
        },
        {
          "output_type": "stream",
          "name": "stdout",
          "text": [
            "\n",
            " Test set: Average loss: 0.0306, Accuracy: 9904/10000 (99.04%)\n",
            "\n",
            "EPOCH: 9\n"
          ]
        },
        {
          "output_type": "stream",
          "name": "stderr",
          "text": [
            "loss=0.02778100222349167 Batch_id=468 Accuracy=99.31: 100%|██████████| 469/469 [00:18<00:00, 26.02it/s]\n"
          ]
        },
        {
          "output_type": "stream",
          "name": "stdout",
          "text": [
            "\n",
            " Test set: Average loss: 0.0259, Accuracy: 9918/10000 (99.18%)\n",
            "\n",
            "EPOCH: 10\n"
          ]
        },
        {
          "output_type": "stream",
          "name": "stderr",
          "text": [
            "loss=0.05343100056052208 Batch_id=468 Accuracy=99.33: 100%|██████████| 469/469 [00:18<00:00, 25.48it/s]\n"
          ]
        },
        {
          "output_type": "stream",
          "name": "stdout",
          "text": [
            "\n",
            " Test set: Average loss: 0.0263, Accuracy: 9913/10000 (99.13%)\n",
            "\n",
            "EPOCH: 11\n"
          ]
        },
        {
          "output_type": "stream",
          "name": "stderr",
          "text": [
            "loss=0.004509331192821264 Batch_id=468 Accuracy=99.37: 100%|██████████| 469/469 [00:18<00:00, 25.86it/s]\n"
          ]
        },
        {
          "output_type": "stream",
          "name": "stdout",
          "text": [
            "\n",
            " Test set: Average loss: 0.0230, Accuracy: 9924/10000 (99.24%)\n",
            "\n",
            "EPOCH: 12\n"
          ]
        },
        {
          "output_type": "stream",
          "name": "stderr",
          "text": [
            "loss=0.02300804853439331 Batch_id=468 Accuracy=99.44: 100%|██████████| 469/469 [00:18<00:00, 24.86it/s]\n"
          ]
        },
        {
          "output_type": "stream",
          "name": "stdout",
          "text": [
            "\n",
            " Test set: Average loss: 0.0243, Accuracy: 9924/10000 (99.24%)\n",
            "\n",
            "EPOCH: 13\n"
          ]
        },
        {
          "output_type": "stream",
          "name": "stderr",
          "text": [
            "loss=0.10644111037254333 Batch_id=468 Accuracy=99.46: 100%|██████████| 469/469 [00:18<00:00, 25.92it/s]\n"
          ]
        },
        {
          "output_type": "stream",
          "name": "stdout",
          "text": [
            "\n",
            " Test set: Average loss: 0.0266, Accuracy: 9918/10000 (99.18%)\n",
            "\n",
            "EPOCH: 14\n"
          ]
        },
        {
          "output_type": "stream",
          "name": "stderr",
          "text": [
            "loss=0.004844734910875559 Batch_id=468 Accuracy=99.48: 100%|██████████| 469/469 [00:18<00:00, 25.44it/s]\n"
          ]
        },
        {
          "output_type": "stream",
          "name": "stdout",
          "text": [
            "\n",
            " Test set: Average loss: 0.0279, Accuracy: 9918/10000 (99.18%)\n",
            "\n"
          ]
        }
      ]
    },
    {
      "cell_type": "markdown",
      "source": [
        "# Accuracy and Loss Visualisation"
      ],
      "metadata": {
        "id": "BvxKQDoJTZ9m"
      }
    },
    {
      "cell_type": "code",
      "source": [
        "%matplotlib inline\n",
        "from result_visualisation import Result_Visualisation\n",
        "result_visualisation_obj = Result_Visualisation()\n",
        "result_visualisation_obj.plot_accuracy_and_loss(train_losses, test_losses, train_acc, test_acc)"
      ],
      "metadata": {
        "id": "ZRucDSagS2fZ",
        "colab": {
          "base_uri": "https://localhost:8080/",
          "height": 634
        },
        "outputId": "01836ddf-fec0-473e-b94e-04e402479fca"
      },
      "execution_count": 9,
      "outputs": [
        {
          "output_type": "display_data",
          "data": {
            "text/plain": [
              "<Figure size 1500x1000 with 4 Axes>"
            ],
            "image/png": "[encoded data removed]"
          },
          "metadata": {}
        }
      ]
    },
    {
      "cell_type": "code",
      "source": [],
      "metadata": {
        "id": "ymdKGQ-iDot4"
      },
      "execution_count": null,
      "outputs": []
    }
  ]
}