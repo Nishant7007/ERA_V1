{
  "nbformat": 4,
  "nbformat_minor": 0,
  "metadata": {
    "colab": {
      "provenance": [],
      "gpuType": "T4"
    },
    "kernelspec": {
      "name": "python3",
      "display_name": "Python 3"
    },
    "language_info": {
      "name": "python"
    },
    "accelerator": "GPU"
  },
  "cells": [
    {
      "cell_type": "markdown",
      "source": [
        "   ## STEP-3 (Introducing dropouts)\n",
        "\n",
        "\n",
        "    Target:\n",
        "\n",
        "        -- In the previous step, the accuracy reduced to 99.24 because we reduced the parameters. In this step we want to\n",
        "        improve this accuracy by using dropouts. We will use a dropout rate of 0.05\n",
        "\n",
        "    Results:\n",
        "\n",
        "        -- Parameters: 7,330\n",
        "        -- Best Training Accuracy: 99.16\n",
        "        -- Best Test Accuracy: 99.35\n",
        "\n",
        "    Analysis:\n",
        "\n",
        "        -- We can see that accuracy has increased from 99.24 to 99.35.\n",
        "        -- The test accuracy is more than train accuracy because we are dropping 5% of the neurons in the training.\n"
      ],
      "metadata": {
        "id": "uYXMDEKiFVqq"
      }
    },
    {
      "cell_type": "markdown",
      "metadata": {
        "id": "aO-7t1Y7-hV4"
      },
      "source": [
        "# Import Libraries"
      ]
    },
    {
      "cell_type": "code",
      "source": [
        "from google.colab import drive\n",
        "drive.mount('/content/drive')"
      ],
      "metadata": {
        "colab": {
          "base_uri": "https://localhost:8080/"
        },
        "id": "5VT3JQm-UQ8o",
        "outputId": "3daa6b39-4341-4842-c0fc-fbbd3db99fae"
      },
      "execution_count": 1,
      "outputs": [
        {
          "output_type": "stream",
          "name": "stdout",
          "text": [
            "Drive already mounted at /content/drive; to attempt to forcibly remount, call drive.mount(\"/content/drive\", force_remount=True).\n"
          ]
        }
      ]
    },
    {
      "cell_type": "code",
      "source": [
        "%cd 'drive/MyDrive/ERA_V1/Session_7_InDepth_Coding_Practice'"
      ],
      "metadata": {
        "colab": {
          "base_uri": "https://localhost:8080/"
        },
        "id": "a6-ErybvUel8",
        "outputId": "1d95cc22-0c0a-482c-c57d-35242d095684"
      },
      "execution_count": 2,
      "outputs": [
        {
          "output_type": "stream",
          "name": "stdout",
          "text": [
            "/content/drive/MyDrive/ERA_V1/Session_7_InDepth_Coding_Practice\n"
          ]
        }
      ]
    },
    {
      "cell_type": "code",
      "source": [
        "from __future__ import print_function\n",
        "import torch\n",
        "import torch.nn as nn\n",
        "import torch.nn.functional as F\n",
        "import torch.optim as optim\n",
        "from torchvision import datasets, transforms"
      ],
      "metadata": {
        "id": "Kml3qngcMTcB"
      },
      "execution_count": 3,
      "outputs": []
    },
    {
      "cell_type": "markdown",
      "source": [
        "# Data Transformations\n",
        "\n"
      ],
      "metadata": {
        "id": "j8W2XOyhxSrx"
      }
    },
    {
      "cell_type": "code",
      "source": [
        "from data_transformers import Transforms\n",
        "transforms_obj = Transforms()\n",
        "train = transforms_obj.download_train_data()\n",
        "test = transforms_obj.download_test_data()"
      ],
      "metadata": {
        "id": "rlQ2oDocvsvS"
      },
      "execution_count": 4,
      "outputs": []
    },
    {
      "cell_type": "markdown",
      "source": [
        "# Train Test Dataloaders\n",
        "\n",
        "\n"
      ],
      "metadata": {
        "id": "JjOhQKUpMo1i"
      }
    },
    {
      "cell_type": "code",
      "source": [
        "from train_test_loaders import Train_Test_Dataloaders\n",
        "train_test_dataloaders_obj = Train_Test_Dataloaders()\n",
        "\n",
        "train_loader = train_test_dataloaders_obj.get_train_dataloader(train)\n",
        "test_loader = train_test_dataloaders_obj.get_test_dataloader(test)"
      ],
      "metadata": {
        "id": "xw5WxhLIMpx_",
        "colab": {
          "base_uri": "https://localhost:8080/"
        },
        "outputId": "b0c916dd-cdb1-4981-af2c-424d0f6db71f"
      },
      "execution_count": 5,
      "outputs": [
        {
          "output_type": "stream",
          "name": "stderr",
          "text": [
            "/usr/local/lib/python3.10/dist-packages/torch/utils/data/dataloader.py:560: UserWarning: This DataLoader will create 4 worker processes in total. Our suggested max number of worker in current system is 2, which is smaller than what this DataLoader is going to create. Please be aware that excessive worker creation might get DataLoader running slow or even freeze, lower the worker number to avoid potential slowness/freeze if necessary.\n",
            "  warnings.warn(_create_warning_msg(\n"
          ]
        }
      ]
    },
    {
      "cell_type": "markdown",
      "source": [
        "# The Model"
      ],
      "metadata": {
        "id": "IWO0-ykFTJwH"
      }
    },
    {
      "cell_type": "markdown",
      "source": [
        "$$n_{out} = \\lfloor \\frac{n_{in} + 2p - k}{s} \\rfloor + 1$$\n",
        "\n",
        "$$j_{out} = j{_in}*s$$\n",
        "\n",
        "$$r_{out} = r_{in} + (k-1)*j_{in}$$\n",
        "\n",
        "\n",
        "**n_in:** number of input features\n",
        "\n",
        "**n_out:** number of output features\n",
        "\n",
        "**k:** kernel_size\n",
        "\n",
        "**s:** stride\n",
        "\n",
        "**p:** padding\n",
        "\n",
        "**j_in:** jump in\n",
        "\n",
        "**j_out:** jump out\n",
        "\n",
        "**r_in:** in receptive field\n",
        "\n",
        "**r_out:** out receptive field"
      ],
      "metadata": {
        "id": "l2y1VwnTkcCC"
      }
    },
    {
      "cell_type": "code",
      "source": [
        "!pip install torchsummary\n",
        "from torchsummary import summary\n",
        "use_cuda = torch.cuda.is_available()\n",
        "device = torch.device(\"cuda\" if use_cuda else \"cpu\")\n",
        "print(device)"
      ],
      "metadata": {
        "id": "Nbxiu66bNb-S",
        "colab": {
          "base_uri": "https://localhost:8080/"
        },
        "outputId": "da759dc2-4763-4a62-e9ce-21efe4302782"
      },
      "execution_count": 6,
      "outputs": [
        {
          "output_type": "stream",
          "name": "stdout",
          "text": [
            "Looking in indexes: https://pypi.org/simple, https://us-python.pkg.dev/colab-wheels/public/simple/\n",
            "Requirement already satisfied: torchsummary in /usr/local/lib/python3.10/dist-packages (1.5.1)\n",
            "cuda\n"
          ]
        }
      ]
    },
    {
      "cell_type": "code",
      "source": [
        "from models import Model3\n",
        "model = Model3().to(device)\n",
        "summary(model, input_size=(1, 28, 28))"
      ],
      "metadata": {
        "id": "c-vf-AYWNgJT",
        "colab": {
          "base_uri": "https://localhost:8080/"
        },
        "outputId": "258667b8-1248-4d13-e824-877c62387232"
      },
      "execution_count": 7,
      "outputs": [
        {
          "output_type": "stream",
          "name": "stdout",
          "text": [
            "----------------------------------------------------------------\n",
            "        Layer (type)               Output Shape         Param #\n",
            "================================================================\n",
            "            Conv2d-1           [-1, 10, 26, 26]              90\n",
            "              ReLU-2           [-1, 10, 26, 26]               0\n",
            "       BatchNorm2d-3           [-1, 10, 26, 26]              20\n",
            "           Dropout-4           [-1, 10, 26, 26]               0\n",
            "            Conv2d-5           [-1, 10, 24, 24]             900\n",
            "              ReLU-6           [-1, 10, 24, 24]               0\n",
            "       BatchNorm2d-7           [-1, 10, 24, 24]              20\n",
            "           Dropout-8           [-1, 10, 24, 24]               0\n",
            "            Conv2d-9           [-1, 12, 22, 22]           1,080\n",
            "             ReLU-10           [-1, 12, 22, 22]               0\n",
            "      BatchNorm2d-11           [-1, 12, 22, 22]              24\n",
            "          Dropout-12           [-1, 12, 22, 22]               0\n",
            "           Conv2d-13           [-1, 14, 20, 20]           1,512\n",
            "             ReLU-14           [-1, 14, 20, 20]               0\n",
            "      BatchNorm2d-15           [-1, 14, 20, 20]              28\n",
            "          Dropout-16           [-1, 14, 20, 20]               0\n",
            "        MaxPool2d-17           [-1, 14, 10, 10]               0\n",
            "           Conv2d-18             [-1, 12, 8, 8]           1,512\n",
            "             ReLU-19             [-1, 12, 8, 8]               0\n",
            "      BatchNorm2d-20             [-1, 12, 8, 8]              24\n",
            "          Dropout-21             [-1, 12, 8, 8]               0\n",
            "           Conv2d-22             [-1, 10, 6, 6]           1,080\n",
            "             ReLU-23             [-1, 10, 6, 6]               0\n",
            "      BatchNorm2d-24             [-1, 10, 6, 6]              20\n",
            "          Dropout-25             [-1, 10, 6, 6]               0\n",
            "           Conv2d-26             [-1, 10, 4, 4]             900\n",
            "             ReLU-27             [-1, 10, 4, 4]               0\n",
            "      BatchNorm2d-28             [-1, 10, 4, 4]              20\n",
            "          Dropout-29             [-1, 10, 4, 4]               0\n",
            "        AvgPool2d-30             [-1, 10, 1, 1]               0\n",
            "           Conv2d-31             [-1, 10, 1, 1]             100\n",
            "================================================================\n",
            "Total params: 7,330\n",
            "Trainable params: 7,330\n",
            "Non-trainable params: 0\n",
            "----------------------------------------------------------------\n",
            "Input size (MB): 0.00\n",
            "Forward/backward pass size (MB): 0.78\n",
            "Params size (MB): 0.03\n",
            "Estimated Total Size (MB): 0.81\n",
            "----------------------------------------------------------------\n"
          ]
        }
      ]
    },
    {
      "cell_type": "markdown",
      "source": [
        "# Let's Train and test our model"
      ],
      "metadata": {
        "id": "oUNldaeJS17V"
      }
    },
    {
      "cell_type": "code",
      "source": [
        "from train_test import Train_Test\n",
        "train_test_obj = Train_Test()\n",
        "\n",
        "train_losses, test_losses, train_acc, test_acc = train_test_obj.train_and_test_model(model, device, 15, train_loader, test_loader)"
      ],
      "metadata": {
        "id": "qqL_pf-cSZuC",
        "colab": {
          "base_uri": "https://localhost:8080/"
        },
        "outputId": "153e9806-c1d9-45ef-8310-fd92d6b37ff2"
      },
      "execution_count": 8,
      "outputs": [
        {
          "output_type": "stream",
          "name": "stdout",
          "text": [
            "EPOCH: 0\n"
          ]
        },
        {
          "output_type": "stream",
          "name": "stderr",
          "text": [
            "loss=0.09464093297719955 Batch_id=468 Accuracy=88.14: 100%|██████████| 469/469 [00:23<00:00, 20.10it/s]\n"
          ]
        },
        {
          "output_type": "stream",
          "name": "stdout",
          "text": [
            "\n",
            " Test set: Average loss: 0.0956, Accuracy: 9735/10000 (97.35%)\n",
            "\n",
            "EPOCH: 1\n"
          ]
        },
        {
          "output_type": "stream",
          "name": "stderr",
          "text": [
            "loss=0.026676731184124947 Batch_id=468 Accuracy=97.70: 100%|██████████| 469/469 [00:18<00:00, 25.93it/s]\n"
          ]
        },
        {
          "output_type": "stream",
          "name": "stdout",
          "text": [
            "\n",
            " Test set: Average loss: 0.0490, Accuracy: 9854/10000 (98.54%)\n",
            "\n",
            "EPOCH: 2\n"
          ]
        },
        {
          "output_type": "stream",
          "name": "stderr",
          "text": [
            "loss=0.06880404055118561 Batch_id=468 Accuracy=98.26: 100%|██████████| 469/469 [00:19<00:00, 24.13it/s]\n"
          ]
        },
        {
          "output_type": "stream",
          "name": "stdout",
          "text": [
            "\n",
            " Test set: Average loss: 0.0351, Accuracy: 9900/10000 (99.00%)\n",
            "\n",
            "EPOCH: 3\n"
          ]
        },
        {
          "output_type": "stream",
          "name": "stderr",
          "text": [
            "loss=0.035476259887218475 Batch_id=468 Accuracy=98.51: 100%|██████████| 469/469 [00:17<00:00, 26.07it/s]\n"
          ]
        },
        {
          "output_type": "stream",
          "name": "stdout",
          "text": [
            "\n",
            " Test set: Average loss: 0.0367, Accuracy: 9886/10000 (98.86%)\n",
            "\n",
            "EPOCH: 4\n"
          ]
        },
        {
          "output_type": "stream",
          "name": "stderr",
          "text": [
            "loss=0.10639187693595886 Batch_id=468 Accuracy=98.71: 100%|██████████| 469/469 [00:19<00:00, 23.91it/s]\n"
          ]
        },
        {
          "output_type": "stream",
          "name": "stdout",
          "text": [
            "\n",
            " Test set: Average loss: 0.0322, Accuracy: 9901/10000 (99.01%)\n",
            "\n",
            "EPOCH: 5\n"
          ]
        },
        {
          "output_type": "stream",
          "name": "stderr",
          "text": [
            "loss=0.0438353605568409 Batch_id=468 Accuracy=98.82: 100%|██████████| 469/469 [00:18<00:00, 25.17it/s]\n"
          ]
        },
        {
          "output_type": "stream",
          "name": "stdout",
          "text": [
            "\n",
            " Test set: Average loss: 0.0368, Accuracy: 9890/10000 (98.90%)\n",
            "\n",
            "EPOCH: 6\n"
          ]
        },
        {
          "output_type": "stream",
          "name": "stderr",
          "text": [
            "loss=0.03007473610341549 Batch_id=468 Accuracy=98.79: 100%|██████████| 469/469 [00:18<00:00, 25.96it/s]\n"
          ]
        },
        {
          "output_type": "stream",
          "name": "stdout",
          "text": [
            "\n",
            " Test set: Average loss: 0.0310, Accuracy: 9912/10000 (99.12%)\n",
            "\n",
            "EPOCH: 7\n"
          ]
        },
        {
          "output_type": "stream",
          "name": "stderr",
          "text": [
            "loss=0.07976815849542618 Batch_id=468 Accuracy=98.97: 100%|██████████| 469/469 [00:19<00:00, 24.24it/s]\n"
          ]
        },
        {
          "output_type": "stream",
          "name": "stdout",
          "text": [
            "\n",
            " Test set: Average loss: 0.0297, Accuracy: 9910/10000 (99.10%)\n",
            "\n",
            "EPOCH: 8\n"
          ]
        },
        {
          "output_type": "stream",
          "name": "stderr",
          "text": [
            "loss=0.008618778549134731 Batch_id=468 Accuracy=98.98: 100%|██████████| 469/469 [00:18<00:00, 26.02it/s]\n"
          ]
        },
        {
          "output_type": "stream",
          "name": "stdout",
          "text": [
            "\n",
            " Test set: Average loss: 0.0273, Accuracy: 9920/10000 (99.20%)\n",
            "\n",
            "EPOCH: 9\n"
          ]
        },
        {
          "output_type": "stream",
          "name": "stderr",
          "text": [
            "loss=0.011555295437574387 Batch_id=468 Accuracy=99.02: 100%|██████████| 469/469 [00:19<00:00, 24.60it/s]\n"
          ]
        },
        {
          "output_type": "stream",
          "name": "stdout",
          "text": [
            "\n",
            " Test set: Average loss: 0.0298, Accuracy: 9899/10000 (98.99%)\n",
            "\n",
            "EPOCH: 10\n"
          ]
        },
        {
          "output_type": "stream",
          "name": "stderr",
          "text": [
            "loss=0.028397222980856895 Batch_id=468 Accuracy=99.10: 100%|██████████| 469/469 [00:17<00:00, 26.35it/s]\n"
          ]
        },
        {
          "output_type": "stream",
          "name": "stdout",
          "text": [
            "\n",
            " Test set: Average loss: 0.0206, Accuracy: 9930/10000 (99.30%)\n",
            "\n",
            "EPOCH: 11\n"
          ]
        },
        {
          "output_type": "stream",
          "name": "stderr",
          "text": [
            "loss=0.004301478620618582 Batch_id=468 Accuracy=99.11: 100%|██████████| 469/469 [00:17<00:00, 26.26it/s]\n"
          ]
        },
        {
          "output_type": "stream",
          "name": "stdout",
          "text": [
            "\n",
            " Test set: Average loss: 0.0280, Accuracy: 9923/10000 (99.23%)\n",
            "\n",
            "EPOCH: 12\n"
          ]
        },
        {
          "output_type": "stream",
          "name": "stderr",
          "text": [
            "loss=0.013098504394292831 Batch_id=468 Accuracy=99.08: 100%|██████████| 469/469 [00:20<00:00, 23.44it/s]\n"
          ]
        },
        {
          "output_type": "stream",
          "name": "stdout",
          "text": [
            "\n",
            " Test set: Average loss: 0.0254, Accuracy: 9923/10000 (99.23%)\n",
            "\n",
            "EPOCH: 13\n"
          ]
        },
        {
          "output_type": "stream",
          "name": "stderr",
          "text": [
            "loss=0.018751883879303932 Batch_id=468 Accuracy=99.14: 100%|██████████| 469/469 [00:17<00:00, 26.15it/s]\n"
          ]
        },
        {
          "output_type": "stream",
          "name": "stdout",
          "text": [
            "\n",
            " Test set: Average loss: 0.0235, Accuracy: 9925/10000 (99.25%)\n",
            "\n",
            "EPOCH: 14\n"
          ]
        },
        {
          "output_type": "stream",
          "name": "stderr",
          "text": [
            "loss=0.012503783218562603 Batch_id=468 Accuracy=99.16: 100%|██████████| 469/469 [00:18<00:00, 25.61it/s]\n"
          ]
        },
        {
          "output_type": "stream",
          "name": "stdout",
          "text": [
            "\n",
            " Test set: Average loss: 0.0213, Accuracy: 9935/10000 (99.35%)\n",
            "\n"
          ]
        }
      ]
    },
    {
      "cell_type": "markdown",
      "source": [
        "# Accuracy and Loss Visualisation"
      ],
      "metadata": {
        "id": "BvxKQDoJTZ9m"
      }
    },
    {
      "cell_type": "code",
      "source": [
        "%matplotlib inline\n",
        "from result_visualisation import Result_Visualisation\n",
        "result_visualisation_obj = Result_Visualisation()\n",
        "result_visualisation_obj.plot_accuracy_and_loss(train_losses, test_losses, train_acc, test_acc)"
      ],
      "metadata": {
        "id": "ZRucDSagS2fZ",
        "colab": {
          "base_uri": "https://localhost:8080/",
          "height": 634
        },
        "outputId": "8522b4d9-fcdb-49d6-b3fc-e26deec92837"
      },
      "execution_count": 9,
      "outputs": [
        {
          "output_type": "display_data",
          "data": {
            "text/plain": [
              "<Figure size 1500x1000 with 4 Axes>"
            ],
            "image/png": "[encoded data removed]"
          },
          "metadata": {}
        }
      ]
    },
    {
      "cell_type": "code",
      "source": [],
      "metadata": {
        "id": "ymdKGQ-iDot4"
      },
      "execution_count": 9,
      "outputs": []
    }
  ]
}