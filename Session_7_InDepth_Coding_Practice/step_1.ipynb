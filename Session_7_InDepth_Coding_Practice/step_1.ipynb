{
  "nbformat": 4,
  "nbformat_minor": 0,
  "metadata": {
    "colab": {
      "provenance": [],
      "gpuType": "T4"
    },
    "kernelspec": {
      "name": "python3",
      "display_name": "Python 3"
    },
    "language_info": {
      "name": "python"
    },
    "accelerator": "GPU"
  },
  "cells": [
    {
      "cell_type": "markdown",
      "source": [
        "## STEP-1 (Get the basic setup right)\n",
        "    Target:\n",
        "\n",
        "        -- Get the set-up right\n",
        "        -- Set Transforms\n",
        "        -- Set Data Loader\n",
        "        -- Set Basic Working Code\n",
        "        -- Set Basic Training  & Test Loop\n",
        "        -- Use batch normalisation\n",
        "\n",
        "    Results:\n",
        "\n",
        "        -- Parameters: 776,160\n",
        "        -- Best Training Accuracy: 100.00\n",
        "        -- Best Test Accuracy: 99.60\n",
        "\n",
        "    Analysis:\n",
        "\n",
        "        -- The accuracy is really good.\n",
        "        -- The model is starting to overfitting in last few eopchs as the test accuracy is decreasing along with the training accuracy\n",
        "        -- model is heavy. 776K parameters are really heavy\n",
        "\n"
      ],
      "metadata": {
        "id": "GnS8Q3EbDsQ2"
      }
    },
    {
      "cell_type": "markdown",
      "metadata": {
        "id": "aO-7t1Y7-hV4"
      },
      "source": [
        "# Import Libraries"
      ]
    },
    {
      "cell_type": "code",
      "source": [
        "from google.colab import drive\n",
        "drive.mount('/content/drive')"
      ],
      "metadata": {
        "colab": {
          "base_uri": "https://localhost:8080/"
        },
        "id": "5VT3JQm-UQ8o",
        "outputId": "cba17ab5-0627-43b4-8ca3-0b61a4f6c2ff"
      },
      "execution_count": 1,
      "outputs": [
        {
          "output_type": "stream",
          "name": "stdout",
          "text": [
            "Drive already mounted at /content/drive; to attempt to forcibly remount, call drive.mount(\"/content/drive\", force_remount=True).\n"
          ]
        }
      ]
    },
    {
      "cell_type": "code",
      "source": [
        "%cd 'drive/MyDrive/ERA_V1/Session_7_InDepth_Coding_Practice'"
      ],
      "metadata": {
        "colab": {
          "base_uri": "https://localhost:8080/"
        },
        "id": "a6-ErybvUel8",
        "outputId": "1b5a78e2-cd79-4804-e3b3-eb0085866fad"
      },
      "execution_count": 2,
      "outputs": [
        {
          "output_type": "stream",
          "name": "stdout",
          "text": [
            "/content/drive/MyDrive/ERA_V1/Session_7_InDepth_Coding_Practice\n"
          ]
        }
      ]
    },
    {
      "cell_type": "code",
      "source": [
        "!ls"
      ],
      "metadata": {
        "colab": {
          "base_uri": "https://localhost:8080/"
        },
        "id": "JqQxXap1UwTz",
        "outputId": "a0cc1654-0fd3-4d96-c207-f7945be84cb2"
      },
      "execution_count": 3,
      "outputs": [
        {
          "output_type": "stream",
          "name": "stdout",
          "text": [
            "data\t\t      models.py    result_visualisation.py\n",
            "data_transformers.py  __pycache__  train_test_loaders.py\n",
            "main.ipynb\t      README.md    train_test.py\n"
          ]
        }
      ]
    },
    {
      "cell_type": "code",
      "source": [
        "from __future__ import print_function\n",
        "import torch\n",
        "import torch.nn as nn\n",
        "import torch.nn.functional as F\n",
        "import torch.optim as optim\n",
        "from torchvision import datasets, transforms"
      ],
      "metadata": {
        "id": "Kml3qngcMTcB"
      },
      "execution_count": 4,
      "outputs": []
    },
    {
      "cell_type": "markdown",
      "source": [
        "# Data Transformations\n",
        "\n"
      ],
      "metadata": {
        "id": "j8W2XOyhxSrx"
      }
    },
    {
      "cell_type": "code",
      "source": [
        "from data_transformers import Transforms\n",
        "transforms_obj = Transforms()\n",
        "train = transforms_obj.download_train_data()\n",
        "test = transforms_obj.download_test_data()"
      ],
      "metadata": {
        "id": "rlQ2oDocvsvS"
      },
      "execution_count": 5,
      "outputs": []
    },
    {
      "cell_type": "markdown",
      "source": [
        "# Train Test Dataloaders\n",
        "\n",
        "\n"
      ],
      "metadata": {
        "id": "JjOhQKUpMo1i"
      }
    },
    {
      "cell_type": "code",
      "source": [
        "from train_test_loaders import Train_Test_Dataloaders\n",
        "train_test_dataloaders_obj = Train_Test_Dataloaders()\n",
        "\n",
        "train_loader = train_test_dataloaders_obj.get_train_dataloader(train)\n",
        "test_loader = train_test_dataloaders_obj.get_test_dataloader(test)"
      ],
      "metadata": {
        "id": "xw5WxhLIMpx_",
        "colab": {
          "base_uri": "https://localhost:8080/"
        },
        "outputId": "dbb400c9-d2c1-4554-cde7-ded725b1f8b2"
      },
      "execution_count": 6,
      "outputs": [
        {
          "output_type": "stream",
          "name": "stderr",
          "text": [
            "/usr/local/lib/python3.10/dist-packages/torch/utils/data/dataloader.py:560: UserWarning: This DataLoader will create 4 worker processes in total. Our suggested max number of worker in current system is 2, which is smaller than what this DataLoader is going to create. Please be aware that excessive worker creation might get DataLoader running slow or even freeze, lower the worker number to avoid potential slowness/freeze if necessary.\n",
            "  warnings.warn(_create_warning_msg(\n"
          ]
        }
      ]
    },
    {
      "cell_type": "markdown",
      "source": [
        "# The Model"
      ],
      "metadata": {
        "id": "IWO0-ykFTJwH"
      }
    },
    {
      "cell_type": "markdown",
      "source": [
        "$$n_{out} = \\lfloor \\frac{n_{in} + 2p - k}{s} \\rfloor + 1$$\n",
        "\n",
        "$$j_{out} = j{_in}*s$$\n",
        "\n",
        "$$r_{out} = r_{in} + (k-1)*j_{in}$$\n",
        "\n",
        "\n",
        "**n_in:** number of input features\n",
        "\n",
        "**n_out:** number of output features\n",
        "\n",
        "**k:** kernel_size\n",
        "\n",
        "**s:** stride\n",
        "\n",
        "**p:** padding\n",
        "\n",
        "**j_in:** jump in\n",
        "\n",
        "**j_out:** jump out\n",
        "\n",
        "**r_in:** in receptive field\n",
        "\n",
        "**r_out:** out receptive field"
      ],
      "metadata": {
        "id": "l2y1VwnTkcCC"
      }
    },
    {
      "cell_type": "code",
      "source": [
        "!pip install torchsummary\n",
        "from torchsummary import summary\n",
        "use_cuda = torch.cuda.is_available()\n",
        "device = torch.device(\"cuda\" if use_cuda else \"cpu\")\n",
        "print(device)"
      ],
      "metadata": {
        "id": "Nbxiu66bNb-S",
        "colab": {
          "base_uri": "https://localhost:8080/"
        },
        "outputId": "c647913a-7013-4ca8-e6c9-ba09c265ba4b"
      },
      "execution_count": 7,
      "outputs": [
        {
          "output_type": "stream",
          "name": "stdout",
          "text": [
            "Looking in indexes: https://pypi.org/simple, https://us-python.pkg.dev/colab-wheels/public/simple/\n",
            "Requirement already satisfied: torchsummary in /usr/local/lib/python3.10/dist-packages (1.5.1)\n",
            "cuda\n"
          ]
        }
      ]
    },
    {
      "cell_type": "code",
      "source": [
        "from models import Model1\n",
        "model = Model1().to(device)\n",
        "summary(model, input_size=(1, 28, 28))"
      ],
      "metadata": {
        "id": "c-vf-AYWNgJT",
        "colab": {
          "base_uri": "https://localhost:8080/"
        },
        "outputId": "8734657f-ee0d-4ff7-de7f-5b602f89267c"
      },
      "execution_count": 8,
      "outputs": [
        {
          "output_type": "stream",
          "name": "stdout",
          "text": [
            "----------------------------------------------------------------\n",
            "        Layer (type)               Output Shape         Param #\n",
            "================================================================\n",
            "            Conv2d-1           [-1, 32, 26, 26]             288\n",
            "              ReLU-2           [-1, 32, 26, 26]               0\n",
            "       BatchNorm2d-3           [-1, 32, 26, 26]              64\n",
            "            Conv2d-4           [-1, 64, 24, 24]          18,432\n",
            "              ReLU-5           [-1, 64, 24, 24]               0\n",
            "       BatchNorm2d-6           [-1, 64, 24, 24]             128\n",
            "            Conv2d-7          [-1, 128, 22, 22]          73,728\n",
            "              ReLU-8          [-1, 128, 22, 22]               0\n",
            "       BatchNorm2d-9          [-1, 128, 22, 22]             256\n",
            "           Conv2d-10          [-1, 256, 20, 20]         294,912\n",
            "             ReLU-11          [-1, 256, 20, 20]               0\n",
            "      BatchNorm2d-12          [-1, 256, 20, 20]             512\n",
            "        MaxPool2d-13          [-1, 256, 10, 10]               0\n",
            "           Conv2d-14            [-1, 128, 8, 8]         294,912\n",
            "             ReLU-15            [-1, 128, 8, 8]               0\n",
            "      BatchNorm2d-16            [-1, 128, 8, 8]             256\n",
            "           Conv2d-17             [-1, 64, 6, 6]          73,728\n",
            "             ReLU-18             [-1, 64, 6, 6]               0\n",
            "      BatchNorm2d-19             [-1, 64, 6, 6]             128\n",
            "           Conv2d-20             [-1, 32, 4, 4]          18,432\n",
            "             ReLU-21             [-1, 32, 4, 4]               0\n",
            "      BatchNorm2d-22             [-1, 32, 4, 4]              64\n",
            "        AvgPool2d-23             [-1, 32, 1, 1]               0\n",
            "           Conv2d-24             [-1, 10, 1, 1]             320\n",
            "================================================================\n",
            "Total params: 776,160\n",
            "Trainable params: 776,160\n",
            "Non-trainable params: 0\n",
            "----------------------------------------------------------------\n",
            "Input size (MB): 0.00\n",
            "Forward/backward pass size (MB): 5.55\n",
            "Params size (MB): 2.96\n",
            "Estimated Total Size (MB): 8.51\n",
            "----------------------------------------------------------------\n"
          ]
        }
      ]
    },
    {
      "cell_type": "markdown",
      "source": [
        "# Let's Train and test our model"
      ],
      "metadata": {
        "id": "oUNldaeJS17V"
      }
    },
    {
      "cell_type": "code",
      "source": [
        "from train_test import Train_Test\n",
        "model = Model1()\n",
        "train_test_obj = Train_Test()\n",
        "\n",
        "train_losses, test_losses, train_acc, test_acc = train_test_obj.train_and_test_model(model, device, 15, train_loader, test_loader)"
      ],
      "metadata": {
        "id": "qqL_pf-cSZuC",
        "colab": {
          "base_uri": "https://localhost:8080/"
        },
        "outputId": "4cd85df8-857d-4c39-c82e-f2fb70cfc6e6"
      },
      "execution_count": 11,
      "outputs": [
        {
          "output_type": "stream",
          "name": "stdout",
          "text": [
            "EPOCH: 0\n"
          ]
        },
        {
          "output_type": "stream",
          "name": "stderr",
          "text": [
            "loss=0.01867850124835968 Batch_id=468 Accuracy=96.90: 100%|██████████| 469/469 [00:21<00:00, 21.53it/s]\n"
          ]
        },
        {
          "output_type": "stream",
          "name": "stdout",
          "text": [
            "\n",
            " Test set: Average loss: 0.0355, Accuracy: 9904/10000 (99.04%)\n",
            "\n",
            "EPOCH: 1\n"
          ]
        },
        {
          "output_type": "stream",
          "name": "stderr",
          "text": [
            "loss=0.10038730502128601 Batch_id=468 Accuracy=99.21: 100%|██████████| 469/469 [00:20<00:00, 23.26it/s]\n"
          ]
        },
        {
          "output_type": "stream",
          "name": "stdout",
          "text": [
            "\n",
            " Test set: Average loss: 0.0268, Accuracy: 9917/10000 (99.17%)\n",
            "\n",
            "EPOCH: 2\n"
          ]
        },
        {
          "output_type": "stream",
          "name": "stderr",
          "text": [
            "loss=0.0136477155610919 Batch_id=468 Accuracy=99.41: 100%|██████████| 469/469 [00:21<00:00, 22.30it/s]\n"
          ]
        },
        {
          "output_type": "stream",
          "name": "stdout",
          "text": [
            "\n",
            " Test set: Average loss: 0.0232, Accuracy: 9939/10000 (99.39%)\n",
            "\n",
            "EPOCH: 3\n"
          ]
        },
        {
          "output_type": "stream",
          "name": "stderr",
          "text": [
            "loss=0.005902640987187624 Batch_id=468 Accuracy=99.63: 100%|██████████| 469/469 [00:20<00:00, 23.01it/s]\n"
          ]
        },
        {
          "output_type": "stream",
          "name": "stdout",
          "text": [
            "\n",
            " Test set: Average loss: 0.0211, Accuracy: 9934/10000 (99.34%)\n",
            "\n",
            "EPOCH: 4\n"
          ]
        },
        {
          "output_type": "stream",
          "name": "stderr",
          "text": [
            "loss=0.007997587323188782 Batch_id=468 Accuracy=99.73: 100%|██████████| 469/469 [00:19<00:00, 23.54it/s]\n"
          ]
        },
        {
          "output_type": "stream",
          "name": "stdout",
          "text": [
            "\n",
            " Test set: Average loss: 0.0189, Accuracy: 9939/10000 (99.39%)\n",
            "\n",
            "EPOCH: 5\n"
          ]
        },
        {
          "output_type": "stream",
          "name": "stderr",
          "text": [
            "loss=0.0032425597310066223 Batch_id=468 Accuracy=99.79: 100%|██████████| 469/469 [00:21<00:00, 22.20it/s]\n"
          ]
        },
        {
          "output_type": "stream",
          "name": "stdout",
          "text": [
            "\n",
            " Test set: Average loss: 0.0170, Accuracy: 9953/10000 (99.53%)\n",
            "\n",
            "EPOCH: 6\n"
          ]
        },
        {
          "output_type": "stream",
          "name": "stderr",
          "text": [
            "loss=0.0027256645262241364 Batch_id=468 Accuracy=99.90: 100%|██████████| 469/469 [00:20<00:00, 23.37it/s]\n"
          ]
        },
        {
          "output_type": "stream",
          "name": "stdout",
          "text": [
            "\n",
            " Test set: Average loss: 0.0153, Accuracy: 9952/10000 (99.52%)\n",
            "\n",
            "EPOCH: 7\n"
          ]
        },
        {
          "output_type": "stream",
          "name": "stderr",
          "text": [
            "loss=0.006127959582954645 Batch_id=468 Accuracy=99.90: 100%|██████████| 469/469 [00:22<00:00, 20.80it/s]\n"
          ]
        },
        {
          "output_type": "stream",
          "name": "stdout",
          "text": [
            "\n",
            " Test set: Average loss: 0.0145, Accuracy: 9952/10000 (99.52%)\n",
            "\n",
            "EPOCH: 8\n"
          ]
        },
        {
          "output_type": "stream",
          "name": "stderr",
          "text": [
            "loss=0.003907378297299147 Batch_id=468 Accuracy=99.94: 100%|██████████| 469/469 [00:22<00:00, 21.30it/s]\n"
          ]
        },
        {
          "output_type": "stream",
          "name": "stdout",
          "text": [
            "\n",
            " Test set: Average loss: 0.0142, Accuracy: 9955/10000 (99.55%)\n",
            "\n",
            "EPOCH: 9\n"
          ]
        },
        {
          "output_type": "stream",
          "name": "stderr",
          "text": [
            "loss=0.0021011768840253353 Batch_id=468 Accuracy=99.97: 100%|██████████| 469/469 [00:20<00:00, 22.38it/s]\n"
          ]
        },
        {
          "output_type": "stream",
          "name": "stdout",
          "text": [
            "\n",
            " Test set: Average loss: 0.0121, Accuracy: 9957/10000 (99.57%)\n",
            "\n",
            "EPOCH: 10\n"
          ]
        },
        {
          "output_type": "stream",
          "name": "stderr",
          "text": [
            "loss=0.0008431710302829742 Batch_id=468 Accuracy=99.98: 100%|██████████| 469/469 [00:22<00:00, 20.85it/s]\n"
          ]
        },
        {
          "output_type": "stream",
          "name": "stdout",
          "text": [
            "\n",
            " Test set: Average loss: 0.0148, Accuracy: 9950/10000 (99.50%)\n",
            "\n",
            "EPOCH: 11\n"
          ]
        },
        {
          "output_type": "stream",
          "name": "stderr",
          "text": [
            "loss=0.0007694439846090972 Batch_id=468 Accuracy=99.99: 100%|██████████| 469/469 [00:20<00:00, 22.66it/s]\n"
          ]
        },
        {
          "output_type": "stream",
          "name": "stdout",
          "text": [
            "\n",
            " Test set: Average loss: 0.0132, Accuracy: 9960/10000 (99.60%)\n",
            "\n",
            "EPOCH: 12\n"
          ]
        },
        {
          "output_type": "stream",
          "name": "stderr",
          "text": [
            "loss=0.0010418699821457267 Batch_id=468 Accuracy=100.00: 100%|██████████| 469/469 [00:20<00:00, 22.90it/s]\n"
          ]
        },
        {
          "output_type": "stream",
          "name": "stdout",
          "text": [
            "\n",
            " Test set: Average loss: 0.0129, Accuracy: 9957/10000 (99.57%)\n",
            "\n",
            "EPOCH: 13\n"
          ]
        },
        {
          "output_type": "stream",
          "name": "stderr",
          "text": [
            "loss=0.0012975087156519294 Batch_id=468 Accuracy=100.00: 100%|██████████| 469/469 [00:21<00:00, 21.51it/s]\n"
          ]
        },
        {
          "output_type": "stream",
          "name": "stdout",
          "text": [
            "\n",
            " Test set: Average loss: 0.0123, Accuracy: 9962/10000 (99.62%)\n",
            "\n",
            "EPOCH: 14\n"
          ]
        },
        {
          "output_type": "stream",
          "name": "stderr",
          "text": [
            "loss=0.000117782641609665 Batch_id=468 Accuracy=100.00: 100%|██████████| 469/469 [00:20<00:00, 22.99it/s]\n"
          ]
        },
        {
          "output_type": "stream",
          "name": "stdout",
          "text": [
            "\n",
            " Test set: Average loss: 0.0127, Accuracy: 9960/10000 (99.60%)\n",
            "\n"
          ]
        }
      ]
    },
    {
      "cell_type": "markdown",
      "source": [
        "# Accuracy and Loss Visualisation"
      ],
      "metadata": {
        "id": "BvxKQDoJTZ9m"
      }
    },
    {
      "cell_type": "code",
      "source": [
        "%matplotlib inline\n",
        "from result_visualisation import Result_Visualisation\n",
        "result_visualisation_obj = Result_Visualisation()\n",
        "result_visualisation_obj.plot_accuracy_and_loss(train_losses, test_losses, train_acc, test_acc)"
      ],
      "metadata": {
        "id": "ZRucDSagS2fZ",
        "colab": {
          "base_uri": "https://localhost:8080/",
          "height": 873
        },
        "outputId": "8a3c6156-8978-4e23-c146-ff3c597794f9"
      },
      "execution_count": 12,
      "outputs": [
        {
          "output_type": "display_data",
          "data": {
            "text/plain": [
              "<Figure size 1500x1000 with 4 Axes>"
            ],
            "image/png": "[encoded data removed]"
          },
          "metadata": {}
        }
      ]
    }
  ]
}