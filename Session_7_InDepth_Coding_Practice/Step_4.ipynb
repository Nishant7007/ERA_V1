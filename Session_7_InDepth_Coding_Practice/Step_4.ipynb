{
  "nbformat": 4,
  "nbformat_minor": 0,
  "metadata": {
    "colab": {
      "provenance": [],
      "gpuType": "T4"
    },
    "kernelspec": {
      "name": "python3",
      "display_name": "Python 3"
    },
    "language_info": {
      "name": "python"
    },
    "accelerator": "GPU"
  },
  "cells": [
    {
      "cell_type": "markdown",
      "source": [
        "## STEP-4 (Introduction Image augmentation)\n",
        "    Target:\n",
        "\n",
        "        -- To increase accuracy we want the model to train on more difficult data. So we are introducing image augmentation in this step\n",
        "\n",
        "    Results:\n",
        "\n",
        "        -- Parameters: 7,330\n",
        "        -- Best Training Accuracy: 98.94\n",
        "        -- Best Test Accuracy: 99.40\n",
        "\n",
        "    Analysis:\n",
        "\n",
        "        -- The accuracy has improved a little compared to previous step (from 99.36 to 99.40)\n",
        "        -- The training accuracy is increasing but test accuracy is fluctuating a little. The model is not able to find the minima. So, we need to introduce learning rate schedular so that learning rate reduces with epochs and does not overshoot\n"
      ],
      "metadata": {
        "id": "uYXMDEKiFVqq"
      }
    },
    {
      "cell_type": "markdown",
      "metadata": {
        "id": "aO-7t1Y7-hV4"
      },
      "source": [
        "# Import Libraries"
      ]
    },
    {
      "cell_type": "code",
      "source": [
        "from google.colab import drive\n",
        "drive.mount('/content/drive')"
      ],
      "metadata": {
        "colab": {
          "base_uri": "https://localhost:8080/"
        },
        "id": "5VT3JQm-UQ8o",
        "outputId": "f56b31d2-7805-48b7-e4cc-33e4f3e6e94a"
      },
      "execution_count": 1,
      "outputs": [
        {
          "output_type": "stream",
          "name": "stdout",
          "text": [
            "Mounted at /content/drive\n"
          ]
        }
      ]
    },
    {
      "cell_type": "code",
      "source": [
        "%cd 'drive/MyDrive/ERA_V1/Session_7_InDepth_Coding_Practice'"
      ],
      "metadata": {
        "colab": {
          "base_uri": "https://localhost:8080/"
        },
        "id": "a6-ErybvUel8",
        "outputId": "f0f6f017-2de3-4a9f-d85c-35306fad647e"
      },
      "execution_count": 2,
      "outputs": [
        {
          "output_type": "stream",
          "name": "stdout",
          "text": [
            "/content/drive/MyDrive/ERA_V1/Session_7_InDepth_Coding_Practice\n"
          ]
        }
      ]
    },
    {
      "cell_type": "code",
      "source": [
        "from __future__ import print_function\n",
        "import torch\n",
        "import torch.nn as nn\n",
        "import torch.nn.functional as F\n",
        "import torch.optim as optim\n",
        "from torchvision import datasets, transforms"
      ],
      "metadata": {
        "id": "Kml3qngcMTcB"
      },
      "execution_count": 3,
      "outputs": []
    },
    {
      "cell_type": "markdown",
      "source": [
        "# Data Transformations\n",
        "\n"
      ],
      "metadata": {
        "id": "j8W2XOyhxSrx"
      }
    },
    {
      "cell_type": "code",
      "source": [
        "from data_transformers import TransformsWithAugmentation\n",
        "transforms_obj = TransformsWithAugmentation()\n",
        "train = transforms_obj.download_train_data()\n",
        "test = transforms_obj.download_test_data()"
      ],
      "metadata": {
        "id": "rlQ2oDocvsvS"
      },
      "execution_count": 4,
      "outputs": []
    },
    {
      "cell_type": "markdown",
      "source": [
        "# Train Test Dataloaders\n",
        "\n",
        "\n"
      ],
      "metadata": {
        "id": "JjOhQKUpMo1i"
      }
    },
    {
      "cell_type": "code",
      "source": [
        "from train_test_loaders import Train_Test_Dataloaders\n",
        "train_test_dataloaders_obj = Train_Test_Dataloaders()\n",
        "\n",
        "train_loader = train_test_dataloaders_obj.get_train_dataloader(train)\n",
        "test_loader = train_test_dataloaders_obj.get_test_dataloader(test)"
      ],
      "metadata": {
        "id": "xw5WxhLIMpx_",
        "colab": {
          "base_uri": "https://localhost:8080/"
        },
        "outputId": "230a5821-d286-456d-df2d-9ddf49d413f2"
      },
      "execution_count": 5,
      "outputs": [
        {
          "output_type": "stream",
          "name": "stderr",
          "text": [
            "/usr/local/lib/python3.10/dist-packages/torch/utils/data/dataloader.py:560: UserWarning: This DataLoader will create 4 worker processes in total. Our suggested max number of worker in current system is 2, which is smaller than what this DataLoader is going to create. Please be aware that excessive worker creation might get DataLoader running slow or even freeze, lower the worker number to avoid potential slowness/freeze if necessary.\n",
            "  warnings.warn(_create_warning_msg(\n"
          ]
        }
      ]
    },
    {
      "cell_type": "markdown",
      "source": [
        "# The Model"
      ],
      "metadata": {
        "id": "IWO0-ykFTJwH"
      }
    },
    {
      "cell_type": "markdown",
      "source": [
        "$$n_{out} = \\lfloor \\frac{n_{in} + 2p - k}{s} \\rfloor + 1$$\n",
        "\n",
        "$$j_{out} = j{_in}*s$$\n",
        "\n",
        "$$r_{out} = r_{in} + (k-1)*j_{in}$$\n",
        "\n",
        "\n",
        "**n_in:** number of input features\n",
        "\n",
        "**n_out:** number of output features\n",
        "\n",
        "**k:** kernel_size\n",
        "\n",
        "**s:** stride\n",
        "\n",
        "**p:** padding\n",
        "\n",
        "**j_in:** jump in\n",
        "\n",
        "**j_out:** jump out\n",
        "\n",
        "**r_in:** in receptive field\n",
        "\n",
        "**r_out:** out receptive field"
      ],
      "metadata": {
        "id": "l2y1VwnTkcCC"
      }
    },
    {
      "cell_type": "code",
      "source": [
        "!pip install torchsummary\n",
        "from torchsummary import summary\n",
        "use_cuda = torch.cuda.is_available()\n",
        "device = torch.device(\"cuda\" if use_cuda else \"cpu\")\n",
        "print(device)"
      ],
      "metadata": {
        "id": "Nbxiu66bNb-S",
        "colab": {
          "base_uri": "https://localhost:8080/"
        },
        "outputId": "8a1847ba-44df-498c-860c-0b38f194916e"
      },
      "execution_count": 6,
      "outputs": [
        {
          "output_type": "stream",
          "name": "stdout",
          "text": [
            "Looking in indexes: https://pypi.org/simple, https://us-python.pkg.dev/colab-wheels/public/simple/\n",
            "Requirement already satisfied: torchsummary in /usr/local/lib/python3.10/dist-packages (1.5.1)\n",
            "cuda\n"
          ]
        }
      ]
    },
    {
      "cell_type": "code",
      "source": [
        "from models import Model3\n",
        "model = Model3().to(device)\n",
        "summary(model, input_size=(1, 28, 28))"
      ],
      "metadata": {
        "id": "c-vf-AYWNgJT",
        "colab": {
          "base_uri": "https://localhost:8080/"
        },
        "outputId": "8c8d22ea-0f87-4ec1-9dcb-ec0fe0bc6eeb"
      },
      "execution_count": 7,
      "outputs": [
        {
          "output_type": "stream",
          "name": "stdout",
          "text": [
            "----------------------------------------------------------------\n",
            "        Layer (type)               Output Shape         Param #\n",
            "================================================================\n",
            "            Conv2d-1           [-1, 10, 26, 26]              90\n",
            "              ReLU-2           [-1, 10, 26, 26]               0\n",
            "       BatchNorm2d-3           [-1, 10, 26, 26]              20\n",
            "           Dropout-4           [-1, 10, 26, 26]               0\n",
            "            Conv2d-5           [-1, 10, 24, 24]             900\n",
            "              ReLU-6           [-1, 10, 24, 24]               0\n",
            "       BatchNorm2d-7           [-1, 10, 24, 24]              20\n",
            "           Dropout-8           [-1, 10, 24, 24]               0\n",
            "            Conv2d-9           [-1, 12, 22, 22]           1,080\n",
            "             ReLU-10           [-1, 12, 22, 22]               0\n",
            "      BatchNorm2d-11           [-1, 12, 22, 22]              24\n",
            "          Dropout-12           [-1, 12, 22, 22]               0\n",
            "           Conv2d-13           [-1, 14, 20, 20]           1,512\n",
            "             ReLU-14           [-1, 14, 20, 20]               0\n",
            "      BatchNorm2d-15           [-1, 14, 20, 20]              28\n",
            "          Dropout-16           [-1, 14, 20, 20]               0\n",
            "        MaxPool2d-17           [-1, 14, 10, 10]               0\n",
            "           Conv2d-18             [-1, 12, 8, 8]           1,512\n",
            "             ReLU-19             [-1, 12, 8, 8]               0\n",
            "      BatchNorm2d-20             [-1, 12, 8, 8]              24\n",
            "          Dropout-21             [-1, 12, 8, 8]               0\n",
            "           Conv2d-22             [-1, 10, 6, 6]           1,080\n",
            "             ReLU-23             [-1, 10, 6, 6]               0\n",
            "      BatchNorm2d-24             [-1, 10, 6, 6]              20\n",
            "          Dropout-25             [-1, 10, 6, 6]               0\n",
            "           Conv2d-26             [-1, 10, 4, 4]             900\n",
            "             ReLU-27             [-1, 10, 4, 4]               0\n",
            "      BatchNorm2d-28             [-1, 10, 4, 4]              20\n",
            "          Dropout-29             [-1, 10, 4, 4]               0\n",
            "        AvgPool2d-30             [-1, 10, 1, 1]               0\n",
            "           Conv2d-31             [-1, 10, 1, 1]             100\n",
            "================================================================\n",
            "Total params: 7,330\n",
            "Trainable params: 7,330\n",
            "Non-trainable params: 0\n",
            "----------------------------------------------------------------\n",
            "Input size (MB): 0.00\n",
            "Forward/backward pass size (MB): 0.78\n",
            "Params size (MB): 0.03\n",
            "Estimated Total Size (MB): 0.81\n",
            "----------------------------------------------------------------\n"
          ]
        }
      ]
    },
    {
      "cell_type": "markdown",
      "source": [
        "# Let's Train and test our model"
      ],
      "metadata": {
        "id": "oUNldaeJS17V"
      }
    },
    {
      "cell_type": "code",
      "source": [
        "from train_test import Train_Test\n",
        "train_test_obj = Train_Test()\n",
        "\n",
        "train_losses, test_losses, train_acc, test_acc = train_test_obj.train_and_test_model(model, device, 15, train_loader, test_loader)"
      ],
      "metadata": {
        "id": "qqL_pf-cSZuC",
        "colab": {
          "base_uri": "https://localhost:8080/"
        },
        "outputId": "e33e9393-f937-49c8-cd17-e472c3779c77"
      },
      "execution_count": 8,
      "outputs": [
        {
          "output_type": "stream",
          "name": "stdout",
          "text": [
            "EPOCH: 0\n"
          ]
        },
        {
          "output_type": "stream",
          "name": "stderr",
          "text": [
            "loss=0.1271345168352127 Batch_id=468 Accuracy=90.91: 100%|██████████| 469/469 [00:32<00:00, 14.52it/s]\n"
          ]
        },
        {
          "output_type": "stream",
          "name": "stdout",
          "text": [
            "\n",
            " Test set: Average loss: 0.0834, Accuracy: 9765/10000 (97.65%)\n",
            "\n",
            "EPOCH: 1\n"
          ]
        },
        {
          "output_type": "stream",
          "name": "stderr",
          "text": [
            "loss=0.08824183791875839 Batch_id=468 Accuracy=97.56: 100%|██████████| 469/469 [00:26<00:00, 17.42it/s]\n"
          ]
        },
        {
          "output_type": "stream",
          "name": "stdout",
          "text": [
            "\n",
            " Test set: Average loss: 0.0523, Accuracy: 9853/10000 (98.53%)\n",
            "\n",
            "EPOCH: 2\n"
          ]
        },
        {
          "output_type": "stream",
          "name": "stderr",
          "text": [
            "loss=0.03847059607505798 Batch_id=468 Accuracy=98.14: 100%|██████████| 469/469 [00:29<00:00, 15.81it/s]\n"
          ]
        },
        {
          "output_type": "stream",
          "name": "stdout",
          "text": [
            "\n",
            " Test set: Average loss: 0.0453, Accuracy: 9863/10000 (98.63%)\n",
            "\n",
            "EPOCH: 3\n"
          ]
        },
        {
          "output_type": "stream",
          "name": "stderr",
          "text": [
            "loss=0.04470762237906456 Batch_id=468 Accuracy=98.28: 100%|██████████| 469/469 [00:27<00:00, 17.12it/s]\n"
          ]
        },
        {
          "output_type": "stream",
          "name": "stdout",
          "text": [
            "\n",
            " Test set: Average loss: 0.0352, Accuracy: 9903/10000 (99.03%)\n",
            "\n",
            "EPOCH: 4\n"
          ]
        },
        {
          "output_type": "stream",
          "name": "stderr",
          "text": [
            "loss=0.009884324856102467 Batch_id=468 Accuracy=98.51: 100%|██████████| 469/469 [00:27<00:00, 17.18it/s]\n"
          ]
        },
        {
          "output_type": "stream",
          "name": "stdout",
          "text": [
            "\n",
            " Test set: Average loss: 0.0316, Accuracy: 9917/10000 (99.17%)\n",
            "\n",
            "EPOCH: 5\n"
          ]
        },
        {
          "output_type": "stream",
          "name": "stderr",
          "text": [
            "loss=0.08901134133338928 Batch_id=468 Accuracy=98.60: 100%|██████████| 469/469 [00:26<00:00, 17.38it/s]\n"
          ]
        },
        {
          "output_type": "stream",
          "name": "stdout",
          "text": [
            "\n",
            " Test set: Average loss: 0.0304, Accuracy: 9918/10000 (99.18%)\n",
            "\n",
            "EPOCH: 6\n"
          ]
        },
        {
          "output_type": "stream",
          "name": "stderr",
          "text": [
            "loss=0.028352828696370125 Batch_id=468 Accuracy=98.70: 100%|██████████| 469/469 [00:25<00:00, 18.14it/s]\n"
          ]
        },
        {
          "output_type": "stream",
          "name": "stdout",
          "text": [
            "\n",
            " Test set: Average loss: 0.0304, Accuracy: 9912/10000 (99.12%)\n",
            "\n",
            "EPOCH: 7\n"
          ]
        },
        {
          "output_type": "stream",
          "name": "stderr",
          "text": [
            "loss=0.04819178208708763 Batch_id=468 Accuracy=98.73: 100%|██████████| 469/469 [00:27<00:00, 17.26it/s]\n"
          ]
        },
        {
          "output_type": "stream",
          "name": "stdout",
          "text": [
            "\n",
            " Test set: Average loss: 0.0258, Accuracy: 9915/10000 (99.15%)\n",
            "\n",
            "EPOCH: 8\n"
          ]
        },
        {
          "output_type": "stream",
          "name": "stderr",
          "text": [
            "loss=0.0200106929987669 Batch_id=468 Accuracy=98.77: 100%|██████████| 469/469 [00:26<00:00, 17.62it/s]\n"
          ]
        },
        {
          "output_type": "stream",
          "name": "stdout",
          "text": [
            "\n",
            " Test set: Average loss: 0.0319, Accuracy: 9900/10000 (99.00%)\n",
            "\n",
            "EPOCH: 9\n"
          ]
        },
        {
          "output_type": "stream",
          "name": "stderr",
          "text": [
            "loss=0.02795666642487049 Batch_id=468 Accuracy=98.84: 100%|██████████| 469/469 [00:27<00:00, 17.16it/s]\n"
          ]
        },
        {
          "output_type": "stream",
          "name": "stdout",
          "text": [
            "\n",
            " Test set: Average loss: 0.0253, Accuracy: 9915/10000 (99.15%)\n",
            "\n",
            "EPOCH: 10\n"
          ]
        },
        {
          "output_type": "stream",
          "name": "stderr",
          "text": [
            "loss=0.025643428787589073 Batch_id=468 Accuracy=98.86: 100%|██████████| 469/469 [00:27<00:00, 17.29it/s]\n"
          ]
        },
        {
          "output_type": "stream",
          "name": "stdout",
          "text": [
            "\n",
            " Test set: Average loss: 0.0216, Accuracy: 9933/10000 (99.33%)\n",
            "\n",
            "EPOCH: 11\n"
          ]
        },
        {
          "output_type": "stream",
          "name": "stderr",
          "text": [
            "loss=0.028989063575863838 Batch_id=468 Accuracy=98.89: 100%|██████████| 469/469 [00:27<00:00, 17.33it/s]\n"
          ]
        },
        {
          "output_type": "stream",
          "name": "stdout",
          "text": [
            "\n",
            " Test set: Average loss: 0.0237, Accuracy: 9929/10000 (99.29%)\n",
            "\n",
            "EPOCH: 12\n"
          ]
        },
        {
          "output_type": "stream",
          "name": "stderr",
          "text": [
            "loss=0.026639370247721672 Batch_id=468 Accuracy=98.92: 100%|██████████| 469/469 [00:29<00:00, 15.81it/s]\n"
          ]
        },
        {
          "output_type": "stream",
          "name": "stdout",
          "text": [
            "\n",
            " Test set: Average loss: 0.0204, Accuracy: 9940/10000 (99.40%)\n",
            "\n",
            "EPOCH: 13\n"
          ]
        },
        {
          "output_type": "stream",
          "name": "stderr",
          "text": [
            "loss=0.017895597964525223 Batch_id=468 Accuracy=98.91: 100%|██████████| 469/469 [00:27<00:00, 17.07it/s]\n"
          ]
        },
        {
          "output_type": "stream",
          "name": "stdout",
          "text": [
            "\n",
            " Test set: Average loss: 0.0216, Accuracy: 9932/10000 (99.32%)\n",
            "\n",
            "EPOCH: 14\n"
          ]
        },
        {
          "output_type": "stream",
          "name": "stderr",
          "text": [
            "loss=0.01383229810744524 Batch_id=468 Accuracy=98.94: 100%|██████████| 469/469 [00:26<00:00, 17.60it/s]\n"
          ]
        },
        {
          "output_type": "stream",
          "name": "stdout",
          "text": [
            "\n",
            " Test set: Average loss: 0.0208, Accuracy: 9936/10000 (99.36%)\n",
            "\n"
          ]
        }
      ]
    },
    {
      "cell_type": "markdown",
      "source": [
        "# Accuracy and Loss Visualisation"
      ],
      "metadata": {
        "id": "BvxKQDoJTZ9m"
      }
    },
    {
      "cell_type": "code",
      "source": [
        "%matplotlib inline\n",
        "from result_visualisation import Result_Visualisation\n",
        "result_visualisation_obj = Result_Visualisation()\n",
        "result_visualisation_obj.plot_accuracy_and_loss(train_losses, test_losses, train_acc, test_acc)"
      ],
      "metadata": {
        "id": "ZRucDSagS2fZ",
        "colab": {
          "base_uri": "https://localhost:8080/",
          "height": 634
        },
        "outputId": "1ba521b2-de11-4387-929d-05dc9cddb7ef"
      },
      "execution_count": 9,
      "outputs": [
        {
          "output_type": "display_data",
          "data": {
            "text/plain": [
              "<Figure size 1500x1000 with 4 Axes>"
            ],
            "image/png": "[encoded data removed]"
          },
          "metadata": {}
        }
      ]
    },
    {
      "cell_type": "code",
      "source": [],
      "metadata": {
        "id": "ymdKGQ-iDot4"
      },
      "execution_count": 9,
      "outputs": []
    }
  ]
}