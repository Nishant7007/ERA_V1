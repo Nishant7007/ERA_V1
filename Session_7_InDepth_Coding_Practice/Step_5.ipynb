{
  "nbformat": 4,
  "nbformat_minor": 0,
  "metadata": {
    "colab": {
      "provenance": [],
      "gpuType": "T4"
    },
    "kernelspec": {
      "name": "python3",
      "display_name": "Python 3"
    },
    "language_info": {
      "name": "python"
    },
    "accelerator": "GPU"
  },
  "cells": [
    {
      "cell_type": "markdown",
      "source": [
        "## STEP-5 (Introducing learning rate)\n",
        "    Target:\n",
        "\n",
        "        -- In the last step, we saw that the training accuracy is increasing but the test accuracy is going up and down a little (which means the model is not able to find minima). So, we want to introduce learning rate scheduler now\n",
        "\n",
        "    Results:\n",
        "\n",
        "        -- Parameters: 7,330\n",
        "        -- Best Training Accuracy: 99.05\n",
        "        -- Best Test Accuracy: 99.29\n",
        "\n",
        "    Analysis:\n",
        "\n",
        "        -- The accuracy has dropped a little (from 99.40 to 99.29) after introducing learning rate scheduler.\n",
        "        -- The test accuracy is more accurate now. We can still improve the model if we train it for few more epochs\n"
      ],
      "metadata": {
        "id": "uYXMDEKiFVqq"
      }
    },
    {
      "cell_type": "markdown",
      "metadata": {
        "id": "aO-7t1Y7-hV4"
      },
      "source": [
        "# Import Libraries"
      ]
    },
    {
      "cell_type": "code",
      "source": [
        "from google.colab import drive\n",
        "drive.mount('/content/drive')"
      ],
      "metadata": {
        "colab": {
          "base_uri": "https://localhost:8080/"
        },
        "id": "5VT3JQm-UQ8o",
        "outputId": "adfc8523-7ae2-4d8d-8a39-c06e7ba06368"
      },
      "execution_count": 1,
      "outputs": [
        {
          "output_type": "stream",
          "name": "stdout",
          "text": [
            "Drive already mounted at /content/drive; to attempt to forcibly remount, call drive.mount(\"/content/drive\", force_remount=True).\n"
          ]
        }
      ]
    },
    {
      "cell_type": "code",
      "source": [
        "%cd 'drive/MyDrive/ERA_V1/Session_7_InDepth_Coding_Practice'"
      ],
      "metadata": {
        "colab": {
          "base_uri": "https://localhost:8080/"
        },
        "id": "a6-ErybvUel8",
        "outputId": "86ead7cc-fd5c-478c-b9a5-102115cf9467"
      },
      "execution_count": 2,
      "outputs": [
        {
          "output_type": "stream",
          "name": "stdout",
          "text": [
            "/content/drive/MyDrive/ERA_V1/Session_7_InDepth_Coding_Practice\n"
          ]
        }
      ]
    },
    {
      "cell_type": "code",
      "source": [
        "from __future__ import print_function\n",
        "import torch\n",
        "import torch.nn as nn\n",
        "import torch.nn.functional as F\n",
        "import torch.optim as optim\n",
        "from torchvision import datasets, transforms"
      ],
      "metadata": {
        "id": "Kml3qngcMTcB"
      },
      "execution_count": 3,
      "outputs": []
    },
    {
      "cell_type": "markdown",
      "source": [
        "# Data Transformations\n",
        "\n"
      ],
      "metadata": {
        "id": "j8W2XOyhxSrx"
      }
    },
    {
      "cell_type": "code",
      "source": [
        "from data_transformers import TransformsWithAugmentation\n",
        "transforms_obj = TransformsWithAugmentation()\n",
        "train = transforms_obj.download_train_data()\n",
        "test = transforms_obj.download_test_data()"
      ],
      "metadata": {
        "id": "rlQ2oDocvsvS"
      },
      "execution_count": 4,
      "outputs": []
    },
    {
      "cell_type": "markdown",
      "source": [
        "# Train Test Dataloaders\n",
        "\n",
        "\n"
      ],
      "metadata": {
        "id": "JjOhQKUpMo1i"
      }
    },
    {
      "cell_type": "code",
      "source": [
        "from train_test_loaders import Train_Test_Dataloaders\n",
        "train_test_dataloaders_obj = Train_Test_Dataloaders()\n",
        "\n",
        "train_loader = train_test_dataloaders_obj.get_train_dataloader(train)\n",
        "test_loader = train_test_dataloaders_obj.get_test_dataloader(test)"
      ],
      "metadata": {
        "id": "xw5WxhLIMpx_",
        "colab": {
          "base_uri": "https://localhost:8080/"
        },
        "outputId": "fc383e23-774a-4c02-8e78-1f0ef5fed943"
      },
      "execution_count": 5,
      "outputs": [
        {
          "output_type": "stream",
          "name": "stderr",
          "text": [
            "/usr/local/lib/python3.10/dist-packages/torch/utils/data/dataloader.py:560: UserWarning: This DataLoader will create 4 worker processes in total. Our suggested max number of worker in current system is 2, which is smaller than what this DataLoader is going to create. Please be aware that excessive worker creation might get DataLoader running slow or even freeze, lower the worker number to avoid potential slowness/freeze if necessary.\n",
            "  warnings.warn(_create_warning_msg(\n"
          ]
        }
      ]
    },
    {
      "cell_type": "markdown",
      "source": [
        "# The Model"
      ],
      "metadata": {
        "id": "IWO0-ykFTJwH"
      }
    },
    {
      "cell_type": "markdown",
      "source": [
        "$$n_{out} = \\lfloor \\frac{n_{in} + 2p - k}{s} \\rfloor + 1$$\n",
        "\n",
        "$$j_{out} = j{_in}*s$$\n",
        "\n",
        "$$r_{out} = r_{in} + (k-1)*j_{in}$$\n",
        "\n",
        "\n",
        "**n_in:** number of input features\n",
        "\n",
        "**n_out:** number of output features\n",
        "\n",
        "**k:** kernel_size\n",
        "\n",
        "**s:** stride\n",
        "\n",
        "**p:** padding\n",
        "\n",
        "**j_in:** jump in\n",
        "\n",
        "**j_out:** jump out\n",
        "\n",
        "**r_in:** in receptive field\n",
        "\n",
        "**r_out:** out receptive field"
      ],
      "metadata": {
        "id": "l2y1VwnTkcCC"
      }
    },
    {
      "cell_type": "code",
      "source": [
        "!pip install torchsummary\n",
        "from torchsummary import summary\n",
        "use_cuda = torch.cuda.is_available()\n",
        "device = torch.device(\"cuda\" if use_cuda else \"cpu\")\n",
        "print(device)"
      ],
      "metadata": {
        "id": "Nbxiu66bNb-S",
        "colab": {
          "base_uri": "https://localhost:8080/"
        },
        "outputId": "109f4a92-7654-4a75-ec5e-e3472ba66d5e"
      },
      "execution_count": 6,
      "outputs": [
        {
          "output_type": "stream",
          "name": "stdout",
          "text": [
            "Looking in indexes: https://pypi.org/simple, https://us-python.pkg.dev/colab-wheels/public/simple/\n",
            "Requirement already satisfied: torchsummary in /usr/local/lib/python3.10/dist-packages (1.5.1)\n",
            "cuda\n"
          ]
        }
      ]
    },
    {
      "cell_type": "code",
      "source": [
        "from models import Model3\n",
        "model = Model3().to(device)\n",
        "summary(model, input_size=(1, 28, 28))"
      ],
      "metadata": {
        "id": "c-vf-AYWNgJT",
        "colab": {
          "base_uri": "https://localhost:8080/"
        },
        "outputId": "5c2f85fc-ac42-4f50-eed9-6e693dd262f6"
      },
      "execution_count": 7,
      "outputs": [
        {
          "output_type": "stream",
          "name": "stdout",
          "text": [
            "----------------------------------------------------------------\n",
            "        Layer (type)               Output Shape         Param #\n",
            "================================================================\n",
            "            Conv2d-1           [-1, 10, 26, 26]              90\n",
            "              ReLU-2           [-1, 10, 26, 26]               0\n",
            "       BatchNorm2d-3           [-1, 10, 26, 26]              20\n",
            "           Dropout-4           [-1, 10, 26, 26]               0\n",
            "            Conv2d-5           [-1, 10, 24, 24]             900\n",
            "              ReLU-6           [-1, 10, 24, 24]               0\n",
            "       BatchNorm2d-7           [-1, 10, 24, 24]              20\n",
            "           Dropout-8           [-1, 10, 24, 24]               0\n",
            "            Conv2d-9           [-1, 12, 22, 22]           1,080\n",
            "             ReLU-10           [-1, 12, 22, 22]               0\n",
            "      BatchNorm2d-11           [-1, 12, 22, 22]              24\n",
            "          Dropout-12           [-1, 12, 22, 22]               0\n",
            "           Conv2d-13           [-1, 14, 20, 20]           1,512\n",
            "             ReLU-14           [-1, 14, 20, 20]               0\n",
            "      BatchNorm2d-15           [-1, 14, 20, 20]              28\n",
            "          Dropout-16           [-1, 14, 20, 20]               0\n",
            "        MaxPool2d-17           [-1, 14, 10, 10]               0\n",
            "           Conv2d-18             [-1, 12, 8, 8]           1,512\n",
            "             ReLU-19             [-1, 12, 8, 8]               0\n",
            "      BatchNorm2d-20             [-1, 12, 8, 8]              24\n",
            "          Dropout-21             [-1, 12, 8, 8]               0\n",
            "           Conv2d-22             [-1, 10, 6, 6]           1,080\n",
            "             ReLU-23             [-1, 10, 6, 6]               0\n",
            "      BatchNorm2d-24             [-1, 10, 6, 6]              20\n",
            "          Dropout-25             [-1, 10, 6, 6]               0\n",
            "           Conv2d-26             [-1, 10, 4, 4]             900\n",
            "             ReLU-27             [-1, 10, 4, 4]               0\n",
            "      BatchNorm2d-28             [-1, 10, 4, 4]              20\n",
            "          Dropout-29             [-1, 10, 4, 4]               0\n",
            "        AvgPool2d-30             [-1, 10, 1, 1]               0\n",
            "           Conv2d-31             [-1, 10, 1, 1]             100\n",
            "================================================================\n",
            "Total params: 7,330\n",
            "Trainable params: 7,330\n",
            "Non-trainable params: 0\n",
            "----------------------------------------------------------------\n",
            "Input size (MB): 0.00\n",
            "Forward/backward pass size (MB): 0.78\n",
            "Params size (MB): 0.03\n",
            "Estimated Total Size (MB): 0.81\n",
            "----------------------------------------------------------------\n"
          ]
        }
      ]
    },
    {
      "cell_type": "markdown",
      "source": [
        "# Let's Train and test our model"
      ],
      "metadata": {
        "id": "oUNldaeJS17V"
      }
    },
    {
      "cell_type": "code",
      "source": [
        "from train_test import Train_Test_With_LR_Scheduler\n",
        "train_test_obj = Train_Test_With_LR_Scheduler()\n",
        "\n",
        "train_losses, test_losses, train_acc, test_acc = train_test_obj.train_and_test_model(model, device, 15, train_loader, test_loader)"
      ],
      "metadata": {
        "id": "qqL_pf-cSZuC",
        "colab": {
          "base_uri": "https://localhost:8080/"
        },
        "outputId": "022f27da-59e8-4cbd-d00e-6bb161759f38"
      },
      "execution_count": 8,
      "outputs": [
        {
          "output_type": "stream",
          "name": "stdout",
          "text": [
            "EPOCH: 0\n"
          ]
        },
        {
          "output_type": "stream",
          "name": "stderr",
          "text": [
            "loss=0.10804017633199692 Batch_id=468 Accuracy=87.12: 100%|██████████| 469/469 [00:27<00:00, 16.88it/s]\n"
          ]
        },
        {
          "output_type": "stream",
          "name": "stdout",
          "text": [
            "\n",
            " Test set: Average loss: 0.0920, Accuracy: 9750/10000 (97.50%)\n",
            "\n",
            "EPOCH: 1\n"
          ]
        },
        {
          "output_type": "stream",
          "name": "stderr",
          "text": [
            "loss=0.0457153283059597 Batch_id=468 Accuracy=97.39: 100%|██████████| 469/469 [00:27<00:00, 17.09it/s]\n"
          ]
        },
        {
          "output_type": "stream",
          "name": "stdout",
          "text": [
            "\n",
            " Test set: Average loss: 0.0565, Accuracy: 9842/10000 (98.42%)\n",
            "\n",
            "EPOCH: 2\n"
          ]
        },
        {
          "output_type": "stream",
          "name": "stderr",
          "text": [
            "loss=0.03894231840968132 Batch_id=468 Accuracy=98.00: 100%|██████████| 469/469 [00:25<00:00, 18.11it/s]\n"
          ]
        },
        {
          "output_type": "stream",
          "name": "stdout",
          "text": [
            "\n",
            " Test set: Average loss: 0.0479, Accuracy: 9859/10000 (98.59%)\n",
            "\n",
            "EPOCH: 3\n"
          ]
        },
        {
          "output_type": "stream",
          "name": "stderr",
          "text": [
            "loss=0.10798611491918564 Batch_id=468 Accuracy=98.21: 100%|██████████| 469/469 [00:24<00:00, 18.90it/s]\n"
          ]
        },
        {
          "output_type": "stream",
          "name": "stdout",
          "text": [
            "\n",
            " Test set: Average loss: 0.0417, Accuracy: 9886/10000 (98.86%)\n",
            "\n",
            "EPOCH: 4\n"
          ]
        },
        {
          "output_type": "stream",
          "name": "stderr",
          "text": [
            "loss=0.03771262615919113 Batch_id=468 Accuracy=98.42: 100%|██████████| 469/469 [00:23<00:00, 19.91it/s]\n"
          ]
        },
        {
          "output_type": "stream",
          "name": "stdout",
          "text": [
            "\n",
            " Test set: Average loss: 0.0351, Accuracy: 9899/10000 (98.99%)\n",
            "\n",
            "EPOCH: 5\n"
          ]
        },
        {
          "output_type": "stream",
          "name": "stderr",
          "text": [
            "loss=0.03497257083654404 Batch_id=468 Accuracy=98.67: 100%|██████████| 469/469 [00:22<00:00, 20.57it/s]\n"
          ]
        },
        {
          "output_type": "stream",
          "name": "stdout",
          "text": [
            "\n",
            " Test set: Average loss: 0.0308, Accuracy: 9912/10000 (99.12%)\n",
            "\n",
            "EPOCH: 6\n"
          ]
        },
        {
          "output_type": "stream",
          "name": "stderr",
          "text": [
            "loss=0.06473603844642639 Batch_id=468 Accuracy=98.83: 100%|██████████| 469/469 [00:23<00:00, 19.59it/s]\n"
          ]
        },
        {
          "output_type": "stream",
          "name": "stdout",
          "text": [
            "\n",
            " Test set: Average loss: 0.0262, Accuracy: 9922/10000 (99.22%)\n",
            "\n",
            "EPOCH: 7\n"
          ]
        },
        {
          "output_type": "stream",
          "name": "stderr",
          "text": [
            "loss=0.052457209676504135 Batch_id=468 Accuracy=98.90: 100%|██████████| 469/469 [00:23<00:00, 19.55it/s]\n"
          ]
        },
        {
          "output_type": "stream",
          "name": "stdout",
          "text": [
            "\n",
            " Test set: Average loss: 0.0249, Accuracy: 9922/10000 (99.22%)\n",
            "\n",
            "EPOCH: 8\n"
          ]
        },
        {
          "output_type": "stream",
          "name": "stderr",
          "text": [
            "loss=0.009451709687709808 Batch_id=468 Accuracy=98.94: 100%|██████████| 469/469 [00:25<00:00, 18.14it/s]\n"
          ]
        },
        {
          "output_type": "stream",
          "name": "stdout",
          "text": [
            "\n",
            " Test set: Average loss: 0.0241, Accuracy: 9927/10000 (99.27%)\n",
            "\n",
            "EPOCH: 9\n"
          ]
        },
        {
          "output_type": "stream",
          "name": "stderr",
          "text": [
            "loss=0.0034190902952104807 Batch_id=468 Accuracy=99.05: 100%|██████████| 469/469 [00:22<00:00, 21.16it/s]\n"
          ]
        },
        {
          "output_type": "stream",
          "name": "stdout",
          "text": [
            "\n",
            " Test set: Average loss: 0.0249, Accuracy: 9922/10000 (99.22%)\n",
            "\n",
            "EPOCH: 10\n"
          ]
        },
        {
          "output_type": "stream",
          "name": "stderr",
          "text": [
            "loss=0.04614303633570671 Batch_id=468 Accuracy=99.03: 100%|██████████| 469/469 [00:22<00:00, 20.98it/s]\n"
          ]
        },
        {
          "output_type": "stream",
          "name": "stdout",
          "text": [
            "\n",
            " Test set: Average loss: 0.0245, Accuracy: 9931/10000 (99.31%)\n",
            "\n",
            "EPOCH: 11\n"
          ]
        },
        {
          "output_type": "stream",
          "name": "stderr",
          "text": [
            "loss=0.047527704387903214 Batch_id=468 Accuracy=99.01: 100%|██████████| 469/469 [00:23<00:00, 19.73it/s]\n"
          ]
        },
        {
          "output_type": "stream",
          "name": "stdout",
          "text": [
            "\n",
            " Test set: Average loss: 0.0244, Accuracy: 9928/10000 (99.28%)\n",
            "\n",
            "EPOCH: 12\n"
          ]
        },
        {
          "output_type": "stream",
          "name": "stderr",
          "text": [
            "loss=0.08658391237258911 Batch_id=468 Accuracy=99.01: 100%|██████████| 469/469 [00:23<00:00, 20.34it/s]\n"
          ]
        },
        {
          "output_type": "stream",
          "name": "stdout",
          "text": [
            "\n",
            " Test set: Average loss: 0.0245, Accuracy: 9927/10000 (99.27%)\n",
            "\n",
            "EPOCH: 13\n"
          ]
        },
        {
          "output_type": "stream",
          "name": "stderr",
          "text": [
            "loss=0.01758410967886448 Batch_id=468 Accuracy=99.00: 100%|██████████| 469/469 [00:21<00:00, 21.35it/s]\n"
          ]
        },
        {
          "output_type": "stream",
          "name": "stdout",
          "text": [
            "\n",
            " Test set: Average loss: 0.0232, Accuracy: 9927/10000 (99.27%)\n",
            "\n",
            "EPOCH: 14\n"
          ]
        },
        {
          "output_type": "stream",
          "name": "stderr",
          "text": [
            "loss=0.029562933370471 Batch_id=468 Accuracy=99.05: 100%|██████████| 469/469 [00:25<00:00, 18.71it/s]\n"
          ]
        },
        {
          "output_type": "stream",
          "name": "stdout",
          "text": [
            "\n",
            " Test set: Average loss: 0.0232, Accuracy: 9929/10000 (99.29%)\n",
            "\n"
          ]
        }
      ]
    },
    {
      "cell_type": "markdown",
      "source": [
        "# Accuracy and Loss Visualisation"
      ],
      "metadata": {
        "id": "BvxKQDoJTZ9m"
      }
    },
    {
      "cell_type": "code",
      "source": [
        "%matplotlib inline\n",
        "from result_visualisation import Result_Visualisation\n",
        "result_visualisation_obj = Result_Visualisation()\n",
        "result_visualisation_obj.plot_accuracy_and_loss(train_losses, test_losses, train_acc, test_acc)"
      ],
      "metadata": {
        "id": "ZRucDSagS2fZ",
        "colab": {
          "base_uri": "https://localhost:8080/",
          "height": 634
        },
        "outputId": "3bdbab59-0d98-406c-d061-f4c1300869eb"
      },
      "execution_count": 9,
      "outputs": [
        {
          "output_type": "display_data",
          "data": {
            "text/plain": [
              "<Figure size 1500x1000 with 4 Axes>"
            ],
            "image/png": "[encoded data removed]"
          },
          "metadata": {}
        }
      ]
    },
    {
      "cell_type": "code",
      "source": [],
      "metadata": {
        "id": "ymdKGQ-iDot4"
      },
      "execution_count": 9,
      "outputs": []
    }
  ]
}